{
  "nbformat": 4,
  "nbformat_minor": 0,
  "metadata": {
    "colab": {
      "provenance": []
    },
    "kernelspec": {
      "name": "python3",
      "display_name": "Python 3"
    },
    "language_info": {
      "name": "python"
    }
  },
  "cells": [
    {
      "cell_type": "code",
      "execution_count": null,
      "metadata": {
        "id": "lSw3hlUo1TRi"
      },
      "outputs": [],
      "source": [
        "import numpy as np\n",
        "import pandas as pd\n",
        "import tensorflow as tf\n",
        "import os\n",
        "import cv2\n",
        "import matplotlib.pyplot as plt\n",
        "import PIL.Image as img\n",
        "from tensorflow.keras import layers\n",
        "from tensorflow.keras.layers.experimental import preprocessing\n",
        "from tensorflow.keras.preprocessing.image import ImageDataGenerator\n",
        "from tensorflow.keras.models import Model\n",
        "from tensorflow.keras.optimizers import Adam\n",
        "from tensorflow.keras.preprocessing import image\n",
        "from tensorflow.keras.callbacks import EarlyStopping\n",
        "from tensorflow import keras\n",
        "from tensorflow.keras.applications import VGG16, ResNet50\n",
        "from tensorflow.keras.preprocessing.image import ImageDataGenerator\n",
        "from tensorflow.keras.models import Sequential\n",
        "from tensorflow.keras.layers import Conv2D, MaxPooling2D, Flatten, Dense\n",
        "from tensorflow.keras.optimizers import SGD\n",
        "from keras.models import Sequential\n",
        "from keras.layers import Conv2D, MaxPooling2D, Flatten, Dense\n",
        "from sklearn.metrics import precision_score, recall_score, f1_score\n",
        "from tensorflow.keras.layers import Dense, Flatten\n",
        "from tensorflow.keras.applications import ResNet50"
      ]
    },
    {
      "cell_type": "code",
      "source": [
        "from google.colab import drive\n",
        "drive.mount('/content/drive')\n",
        "data_path = '/content/drive/MyDrive/Covid19-dataset'\n",
        "train_dir='/content/drive/MyDrive/Covid19-dataset/train'\n",
        "test_dir='/content/drive/MyDrive/Covid19-dataset/test'"
      ],
      "metadata": {
        "colab": {
          "base_uri": "https://localhost:8080/"
        },
        "id": "0Spcnv6t1alp",
        "outputId": "a045f198-b712-43c7-8f9e-0c62c75c804e"
      },
      "execution_count": null,
      "outputs": [
        {
          "output_type": "stream",
          "name": "stdout",
          "text": [
            "Drive already mounted at /content/drive; to attempt to forcibly remount, call drive.mount(\"/content/drive\", force_remount=True).\n"
          ]
        }
      ]
    },
    {
      "cell_type": "code",
      "source": [
        "from keras.applications import VGG16\n",
        "from keras.models import Sequential\n",
        "from keras.layers import Flatten, Dense\n",
        "from keras.optimizers import Adam\n",
        "from tensorflow.keras.preprocessing.image import ImageDataGenerator\n",
        "\n",
        "\n",
        "# Load the VGG16 model without the top layer\n",
        "base_model = VGG16(weights='imagenet', include_top=False, input_shape=(224, 224, 3))\n",
        "\n",
        "# Freeze the pre-trained layers\n",
        "for layer in base_model.layers:\n",
        "    layer.trainable = False\n",
        "\n",
        "# Create the model\n",
        "vgg16 = Sequential()\n",
        "vgg16.add(base_model)\n",
        "vgg16.add(Flatten())\n",
        "vgg16.add(Dense(4096, activation='relu'))\n",
        "vgg16.add(Dense(4096, activation='relu'))\n",
        "vgg16.add(Dense(3, activation='softmax'))  # Adjust the number of classes (3 for COVID-19, Normal, Viral Pneumonia)\n",
        "\n",
        "# Compile the model\n",
        "vgg16.compile(optimizer=Adam(learning_rate=0.001), loss='sparse_categorical_crossentropy', metrics=['accuracy'])\n",
        "\n",
        "train_data = ImageDataGenerator(rescale = 1/255.0 , validation_split=0.2)\n",
        "test_data = ImageDataGenerator(rescale = 1/255.0)\n",
        "\n",
        "train_set = train_data.flow_from_directory(\n",
        "                    train_dir,\n",
        "                    subset = 'training',\n",
        "                    batch_size=32,\n",
        "                    target_size=(224,224),\n",
        "                    class_mode = 'sparse'\n",
        ")\n",
        "val_set = train_data.flow_from_directory(\n",
        "                    train_dir,\n",
        "                    subset = 'validation',\n",
        "                    batch_size=32,\n",
        "                    target_size=(224,224),\n",
        "                    class_mode = 'sparse'\n",
        ")\n",
        "test_set = test_data.flow_from_directory(\n",
        "                    test_dir,\n",
        "                    batch_size=32,\n",
        "                    target_size=(224,224),\n",
        "                    class_mode = 'sparse'\n",
        ")\n",
        "\n",
        "# Train the model\n",
        "vgg16.fit(train_set, epochs=30, validation_data=val_set)\n",
        "\n",
        "# Evaluate the model\n",
        "loss, accuracy = vgg16.evaluate(test_set)\n",
        "print('Test Loss:', loss)\n",
        "print('Test Accuracy:', accuracy)"
      ],
      "metadata": {
        "colab": {
          "base_uri": "https://localhost:8080/"
        },
        "id": "qxZJA_Z_6Cf3",
        "outputId": "a6d61c36-e302-4366-9b4d-3cdcf207127f"
      },
      "execution_count": null,
      "outputs": [
        {
          "output_type": "stream",
          "name": "stdout",
          "text": [
            "Found 201 images belonging to 3 classes.\n",
            "Found 50 images belonging to 3 classes.\n",
            "Found 66 images belonging to 3 classes.\n",
            "Epoch 1/30\n",
            "7/7 [==============================] - 174s 24s/step - loss: 29.2301 - accuracy: 0.3483 - val_loss: 8.0632 - val_accuracy: 0.4400\n",
            "Epoch 2/30\n",
            "7/7 [==============================] - 162s 23s/step - loss: 1.8500 - accuracy: 0.6716 - val_loss: 0.9827 - val_accuracy: 0.7000\n",
            "Epoch 3/30\n",
            "7/7 [==============================] - 161s 23s/step - loss: 0.3497 - accuracy: 0.8856 - val_loss: 0.3129 - val_accuracy: 0.9200\n",
            "Epoch 4/30\n",
            "7/7 [==============================] - 161s 23s/step - loss: 0.1485 - accuracy: 0.9353 - val_loss: 0.3076 - val_accuracy: 0.9200\n",
            "Epoch 5/30\n",
            "7/7 [==============================] - 163s 24s/step - loss: 0.0469 - accuracy: 0.9801 - val_loss: 0.1388 - val_accuracy: 0.9200\n",
            "Epoch 6/30\n",
            "7/7 [==============================] - 161s 23s/step - loss: 0.0207 - accuracy: 0.9900 - val_loss: 0.2877 - val_accuracy: 0.9200\n",
            "Epoch 7/30\n",
            "7/7 [==============================] - 163s 23s/step - loss: 0.0042 - accuracy: 1.0000 - val_loss: 0.3333 - val_accuracy: 0.9200\n",
            "Epoch 8/30\n",
            "7/7 [==============================] - 163s 23s/step - loss: 0.0020 - accuracy: 1.0000 - val_loss: 0.3069 - val_accuracy: 0.9400\n",
            "Epoch 9/30\n",
            "7/7 [==============================] - 162s 24s/step - loss: 0.0024 - accuracy: 1.0000 - val_loss: 0.2879 - val_accuracy: 0.9400\n",
            "Epoch 10/30\n",
            "7/7 [==============================] - 161s 23s/step - loss: 7.5297e-04 - accuracy: 1.0000 - val_loss: 0.2652 - val_accuracy: 0.9200\n",
            "Epoch 11/30\n",
            "7/7 [==============================] - 173s 27s/step - loss: 9.5625e-04 - accuracy: 1.0000 - val_loss: 0.2987 - val_accuracy: 0.9200\n",
            "Epoch 12/30\n",
            "7/7 [==============================] - 161s 23s/step - loss: 2.2239e-04 - accuracy: 1.0000 - val_loss: 0.3539 - val_accuracy: 0.9400\n",
            "Epoch 13/30\n",
            "7/7 [==============================] - 164s 23s/step - loss: 1.7539e-04 - accuracy: 1.0000 - val_loss: 0.3904 - val_accuracy: 0.9400\n",
            "Epoch 14/30\n",
            "7/7 [==============================] - 164s 24s/step - loss: 1.7361e-04 - accuracy: 1.0000 - val_loss: 0.3988 - val_accuracy: 0.9400\n",
            "Epoch 15/30\n",
            "7/7 [==============================] - 162s 24s/step - loss: 1.2790e-04 - accuracy: 1.0000 - val_loss: 0.3944 - val_accuracy: 0.9400\n",
            "Epoch 16/30\n",
            "7/7 [==============================] - 162s 24s/step - loss: 9.6857e-05 - accuracy: 1.0000 - val_loss: 0.3905 - val_accuracy: 0.9200\n",
            "Epoch 17/30\n",
            "7/7 [==============================] - 161s 26s/step - loss: 8.6927e-05 - accuracy: 1.0000 - val_loss: 0.3861 - val_accuracy: 0.9200\n",
            "Epoch 18/30\n",
            "7/7 [==============================] - 161s 23s/step - loss: 8.1640e-05 - accuracy: 1.0000 - val_loss: 0.3869 - val_accuracy: 0.9200\n",
            "Epoch 19/30\n",
            "7/7 [==============================] - 164s 26s/step - loss: 7.2789e-05 - accuracy: 1.0000 - val_loss: 0.3991 - val_accuracy: 0.9200\n",
            "Epoch 20/30\n",
            "7/7 [==============================] - 162s 23s/step - loss: 6.4473e-05 - accuracy: 1.0000 - val_loss: 0.4080 - val_accuracy: 0.9200\n",
            "Epoch 21/30\n",
            "7/7 [==============================] - 174s 25s/step - loss: 5.9099e-05 - accuracy: 1.0000 - val_loss: 0.4156 - val_accuracy: 0.9200\n",
            "Epoch 22/30\n",
            "7/7 [==============================] - 164s 24s/step - loss: 5.4128e-05 - accuracy: 1.0000 - val_loss: 0.4176 - val_accuracy: 0.9200\n",
            "Epoch 23/30\n",
            "7/7 [==============================] - 161s 23s/step - loss: 4.9181e-05 - accuracy: 1.0000 - val_loss: 0.4194 - val_accuracy: 0.9200\n",
            "Epoch 24/30\n",
            "7/7 [==============================] - 161s 26s/step - loss: 4.5595e-05 - accuracy: 1.0000 - val_loss: 0.4232 - val_accuracy: 0.9200\n",
            "Epoch 25/30\n",
            "7/7 [==============================] - 161s 23s/step - loss: 4.2990e-05 - accuracy: 1.0000 - val_loss: 0.4268 - val_accuracy: 0.9200\n",
            "Epoch 26/30\n",
            "7/7 [==============================] - 161s 23s/step - loss: 4.0355e-05 - accuracy: 1.0000 - val_loss: 0.4282 - val_accuracy: 0.9200\n",
            "Epoch 27/30\n",
            "7/7 [==============================] - 164s 26s/step - loss: 3.7795e-05 - accuracy: 1.0000 - val_loss: 0.4285 - val_accuracy: 0.9200\n",
            "Epoch 28/30\n",
            "7/7 [==============================] - 161s 23s/step - loss: 3.5861e-05 - accuracy: 1.0000 - val_loss: 0.4297 - val_accuracy: 0.9200\n",
            "Epoch 29/30\n",
            "7/7 [==============================] - 162s 25s/step - loss: 3.3550e-05 - accuracy: 1.0000 - val_loss: 0.4277 - val_accuracy: 0.9200\n",
            "Epoch 30/30\n",
            "7/7 [==============================] - 164s 26s/step - loss: 3.1430e-05 - accuracy: 1.0000 - val_loss: 0.4297 - val_accuracy: 0.9200\n",
            "3/3 [==============================] - 39s 10s/step - loss: 0.0625 - accuracy: 0.9697\n",
            "Test Loss: 0.06253170967102051\n",
            "Test Accuracy: 0.9696969985961914\n"
          ]
        }
      ]
    },
    {
      "cell_type": "code",
      "source": [
        "from sklearn.metrics import classification_report\n",
        "import numpy as np\n",
        "# Generate predictions for test set\n",
        "test_set.reset()\n",
        "test_data, test_labels = next(test_set)\n",
        "predictions = vgg16.predict(test_data)\n",
        "\n",
        "# Convert predicted probabilities to integer labels\n",
        "predicted_labels = np.argmax(predictions, axis=1)\n",
        "\n",
        "# Print classification report\n",
        "target_names = list(test_set.class_indices.keys())\n",
        "print(classification_report(test_labels, predicted_labels, target_names=target_names))"
      ],
      "metadata": {
        "colab": {
          "base_uri": "https://localhost:8080/"
        },
        "id": "orc1TBcZpSdK",
        "outputId": "1da3e956-a453-4715-9894-97d03cd3ab6b"
      },
      "execution_count": null,
      "outputs": [
        {
          "output_type": "stream",
          "name": "stdout",
          "text": [
            "1/1 [==============================] - 18s 18s/step\n",
            "                 precision    recall  f1-score   support\n",
            "\n",
            "          Covid       1.00      1.00      1.00        13\n",
            "         Normal       1.00      0.92      0.96        12\n",
            "Viral Pneumonia       0.88      1.00      0.93         7\n",
            "\n",
            "       accuracy                           0.97        32\n",
            "      macro avg       0.96      0.97      0.96        32\n",
            "   weighted avg       0.97      0.97      0.97        32\n",
            "\n"
          ]
        }
      ]
    }
  ]
}