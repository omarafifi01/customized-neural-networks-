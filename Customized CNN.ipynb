{
  "nbformat": 4,
  "nbformat_minor": 0,
  "metadata": {
    "colab": {
      "provenance": []
    },
    "kernelspec": {
      "name": "python3",
      "display_name": "Python 3"
    },
    "language_info": {
      "name": "python"
    }
  },
  "cells": [
    {
      "cell_type": "code",
      "execution_count": 1,
      "metadata": {
        "id": "bXgBa9d-ZhIP"
      },
      "outputs": [],
      "source": [
        "import numpy as np\n",
        "import pandas as pd\n",
        "import tensorflow as tf\n",
        "import os\n",
        "import cv2\n",
        "import matplotlib.pyplot as plt\n",
        "import PIL.Image as img\n",
        "from tensorflow.keras import layers\n",
        "from tensorflow.keras.layers.experimental import preprocessing\n",
        "from tensorflow.keras.preprocessing.image import ImageDataGenerator\n",
        "from tensorflow.keras.models import Sequential\n",
        "from tensorflow.keras.layers import Conv2D, MaxPooling2D, Flatten, Dense"
      ]
    },
    {
      "cell_type": "code",
      "source": [
        "from google.colab import drive\n",
        "drive.mount('/content/drive')\n",
        "data_path = '/content/drive/MyDrive/Covid19-dataset'\n",
        "train_dir='/content/drive/MyDrive/Covid19-dataset/train'\n",
        "test_dir='/content/drive/MyDrive/Covid19-dataset/test'"
      ],
      "metadata": {
        "colab": {
          "base_uri": "https://localhost:8080/"
        },
        "id": "vrEJ104jZygZ",
        "outputId": "5ec2b02d-f283-4a43-e364-daf12976bf37"
      },
      "execution_count": 2,
      "outputs": [
        {
          "output_type": "stream",
          "name": "stdout",
          "text": [
            "Mounted at /content/drive\n"
          ]
        }
      ]
    },
    {
      "cell_type": "markdown",
      "source": [
        "# **32 BS 50 Epoch 0.88**"
      ],
      "metadata": {
        "id": "oDtukhZked0X"
      }
    },
    {
      "cell_type": "code",
      "source": [
        "model = Sequential()\n",
        "model.add(Conv2D(96, kernel_size=(11, 11), strides=(4, 4), activation='relu', input_shape=(224, 224, 3)))\n",
        "model.add(MaxPooling2D(pool_size=(3, 3), strides=(2, 2)))\n",
        "model.add(Conv2D(256, kernel_size=(5, 5), padding='same', activation='relu'))\n",
        "model.add(MaxPooling2D(pool_size=(3, 3), strides=(2, 2)))\n",
        "model.add(Conv2D(384, kernel_size=(3, 3), padding='same', activation='relu'))\n",
        "model.add(Conv2D(384, kernel_size=(3, 3), padding='same', activation='relu'))\n",
        "model.add(Conv2D(256, kernel_size=(3, 3), padding='same', activation='relu'))\n",
        "model.add(MaxPooling2D(pool_size=(3, 3), strides=(2, 2)))\n",
        "model.add(Flatten())\n",
        "model.add(Dense(4096, activation='relu'))\n",
        "model.add(Dense(4096, activation='relu'))\n",
        "model.add(Dense(3, activation='softmax'))"
      ],
      "metadata": {
        "id": "lrB1LkhedjLx"
      },
      "execution_count": 7,
      "outputs": []
    },
    {
      "cell_type": "code",
      "source": [
        "train_data = ImageDataGenerator(rescale = 1/255.0 , validation_split=0.2)\n",
        "test_data = ImageDataGenerator(rescale = 1/255.0)\n",
        "\n",
        "train_set = train_data.flow_from_directory(\n",
        "                    train_dir,\n",
        "                    subset = 'training',\n",
        "                    batch_size=32,\n",
        "                    target_size=(224,224),\n",
        "                    class_mode = 'sparse'\n",
        ")\n",
        "val_set = train_data.flow_from_directory(\n",
        "                    train_dir,\n",
        "                    subset = 'validation',\n",
        "                    batch_size=32,\n",
        "                    target_size=(224,224),\n",
        "                    class_mode = 'sparse'\n",
        ")\n",
        "test_set = test_data.flow_from_directory(\n",
        "                    test_dir,\n",
        "                    batch_size=32,\n",
        "                    target_size=(224,224),\n",
        "                    class_mode = 'sparse'\n",
        ")"
      ],
      "metadata": {
        "colab": {
          "base_uri": "https://localhost:8080/"
        },
        "id": "vl49oS9edmrw",
        "outputId": "f75ad6d8-4231-4ac3-886a-e26de42b8ea3"
      },
      "execution_count": 8,
      "outputs": [
        {
          "output_type": "stream",
          "name": "stdout",
          "text": [
            "Found 201 images belonging to 3 classes.\n",
            "Found 50 images belonging to 3 classes.\n",
            "Found 66 images belonging to 3 classes.\n"
          ]
        }
      ]
    },
    {
      "cell_type": "code",
      "source": [
        "model.compile(optimizer='adam', loss='sparse_categorical_crossentropy', metrics=['accuracy'])\n",
        "model.fit(train_set, epochs=50, validation_data=val_set)\n",
        "\n",
        "# Evaluate the model on the test set\n",
        "test_loss, test_accuracy = model.evaluate(test_set)\n",
        "print('Test Loss:', test_loss)\n",
        "print('Test Accuracy:', test_accuracy)"
      ],
      "metadata": {
        "colab": {
          "base_uri": "https://localhost:8080/"
        },
        "id": "qY1yQrBvdqMu",
        "outputId": "4227e3d9-41ff-4e4a-ead9-0f4045cce447"
      },
      "execution_count": 9,
      "outputs": [
        {
          "output_type": "stream",
          "name": "stdout",
          "text": [
            "Epoch 1/50\n",
            "7/7 [==============================] - 57s 8s/step - loss: 1.4076 - accuracy: 0.3383 - val_loss: 1.1087 - val_accuracy: 0.4400\n",
            "Epoch 2/50\n",
            "7/7 [==============================] - 51s 7s/step - loss: 1.0884 - accuracy: 0.4428 - val_loss: 1.0633 - val_accuracy: 0.4400\n",
            "Epoch 3/50\n",
            "7/7 [==============================] - 48s 7s/step - loss: 1.0496 - accuracy: 0.4428 - val_loss: 0.9616 - val_accuracy: 0.4400\n",
            "Epoch 4/50\n",
            "7/7 [==============================] - 45s 6s/step - loss: 0.8883 - accuracy: 0.6119 - val_loss: 1.0447 - val_accuracy: 0.4600\n",
            "Epoch 5/50\n",
            "7/7 [==============================] - 46s 6s/step - loss: 0.5737 - accuracy: 0.7413 - val_loss: 0.9273 - val_accuracy: 0.6600\n",
            "Epoch 6/50\n",
            "7/7 [==============================] - 41s 6s/step - loss: 0.5320 - accuracy: 0.7761 - val_loss: 0.6854 - val_accuracy: 0.7200\n",
            "Epoch 7/50\n",
            "7/7 [==============================] - 45s 6s/step - loss: 0.4628 - accuracy: 0.8408 - val_loss: 0.6285 - val_accuracy: 0.7800\n",
            "Epoch 8/50\n",
            "7/7 [==============================] - 42s 7s/step - loss: 0.3843 - accuracy: 0.8308 - val_loss: 0.6092 - val_accuracy: 0.7200\n",
            "Epoch 9/50\n",
            "7/7 [==============================] - 41s 6s/step - loss: 0.3542 - accuracy: 0.8458 - val_loss: 0.5156 - val_accuracy: 0.8200\n",
            "Epoch 10/50\n",
            "7/7 [==============================] - 45s 6s/step - loss: 0.5244 - accuracy: 0.7463 - val_loss: 0.6205 - val_accuracy: 0.7400\n",
            "Epoch 11/50\n",
            "7/7 [==============================] - 51s 7s/step - loss: 0.4126 - accuracy: 0.8507 - val_loss: 1.5242 - val_accuracy: 0.6600\n",
            "Epoch 12/50\n",
            "7/7 [==============================] - 43s 6s/step - loss: 0.5055 - accuracy: 0.7861 - val_loss: 0.5013 - val_accuracy: 0.7800\n",
            "Epoch 13/50\n",
            "7/7 [==============================] - 43s 6s/step - loss: 0.3072 - accuracy: 0.8607 - val_loss: 0.4662 - val_accuracy: 0.8400\n",
            "Epoch 14/50\n",
            "7/7 [==============================] - 48s 7s/step - loss: 0.2437 - accuracy: 0.8905 - val_loss: 0.4473 - val_accuracy: 0.8800\n",
            "Epoch 15/50\n",
            "7/7 [==============================] - 45s 6s/step - loss: 0.2246 - accuracy: 0.8905 - val_loss: 0.6400 - val_accuracy: 0.7800\n",
            "Epoch 16/50\n",
            "7/7 [==============================] - 42s 6s/step - loss: 0.2259 - accuracy: 0.8955 - val_loss: 0.4768 - val_accuracy: 0.8400\n",
            "Epoch 17/50\n",
            "7/7 [==============================] - 44s 6s/step - loss: 0.2133 - accuracy: 0.9254 - val_loss: 0.3458 - val_accuracy: 0.8800\n",
            "Epoch 18/50\n",
            "7/7 [==============================] - 41s 6s/step - loss: 0.1236 - accuracy: 0.9602 - val_loss: 0.4683 - val_accuracy: 0.9000\n",
            "Epoch 19/50\n",
            "7/7 [==============================] - 43s 6s/step - loss: 0.1080 - accuracy: 0.9602 - val_loss: 0.4337 - val_accuracy: 0.8400\n",
            "Epoch 20/50\n",
            "7/7 [==============================] - 44s 6s/step - loss: 0.2893 - accuracy: 0.8806 - val_loss: 1.0612 - val_accuracy: 0.6800\n",
            "Epoch 21/50\n",
            "7/7 [==============================] - 41s 6s/step - loss: 0.3729 - accuracy: 0.9005 - val_loss: 0.3948 - val_accuracy: 0.8200\n",
            "Epoch 22/50\n",
            "7/7 [==============================] - 45s 6s/step - loss: 0.1357 - accuracy: 0.9602 - val_loss: 0.4695 - val_accuracy: 0.8600\n",
            "Epoch 23/50\n",
            "7/7 [==============================] - 41s 6s/step - loss: 0.1489 - accuracy: 0.9353 - val_loss: 0.5652 - val_accuracy: 0.8000\n",
            "Epoch 24/50\n",
            "7/7 [==============================] - 43s 6s/step - loss: 0.1297 - accuracy: 0.9502 - val_loss: 0.3814 - val_accuracy: 0.8600\n",
            "Epoch 25/50\n",
            "7/7 [==============================] - 44s 6s/step - loss: 0.0929 - accuracy: 0.9652 - val_loss: 0.4618 - val_accuracy: 0.8600\n",
            "Epoch 26/50\n",
            "7/7 [==============================] - 42s 6s/step - loss: 0.0625 - accuracy: 0.9801 - val_loss: 0.7508 - val_accuracy: 0.8200\n",
            "Epoch 27/50\n",
            "7/7 [==============================] - 47s 7s/step - loss: 0.1124 - accuracy: 0.9751 - val_loss: 0.6329 - val_accuracy: 0.8000\n",
            "Epoch 28/50\n",
            "7/7 [==============================] - 47s 7s/step - loss: 0.1247 - accuracy: 0.9502 - val_loss: 0.5483 - val_accuracy: 0.8400\n",
            "Epoch 29/50\n",
            "7/7 [==============================] - 46s 6s/step - loss: 0.0950 - accuracy: 0.9502 - val_loss: 0.7258 - val_accuracy: 0.7800\n",
            "Epoch 30/50\n",
            "7/7 [==============================] - 41s 6s/step - loss: 0.0928 - accuracy: 0.9652 - val_loss: 0.6024 - val_accuracy: 0.8400\n",
            "Epoch 31/50\n",
            "7/7 [==============================] - 45s 6s/step - loss: 0.0686 - accuracy: 0.9701 - val_loss: 0.7732 - val_accuracy: 0.8200\n",
            "Epoch 32/50\n",
            "7/7 [==============================] - 43s 6s/step - loss: 0.0710 - accuracy: 0.9751 - val_loss: 1.0918 - val_accuracy: 0.7000\n",
            "Epoch 33/50\n",
            "7/7 [==============================] - 43s 6s/step - loss: 0.2035 - accuracy: 0.9403 - val_loss: 0.4716 - val_accuracy: 0.8600\n",
            "Epoch 34/50\n",
            "7/7 [==============================] - 42s 6s/step - loss: 0.0863 - accuracy: 0.9652 - val_loss: 0.5827 - val_accuracy: 0.8400\n",
            "Epoch 35/50\n",
            "7/7 [==============================] - 42s 6s/step - loss: 0.1260 - accuracy: 0.9403 - val_loss: 0.4747 - val_accuracy: 0.8800\n",
            "Epoch 36/50\n",
            "7/7 [==============================] - 43s 6s/step - loss: 0.1042 - accuracy: 0.9701 - val_loss: 0.5476 - val_accuracy: 0.8600\n",
            "Epoch 37/50\n",
            "7/7 [==============================] - 42s 6s/step - loss: 0.0565 - accuracy: 0.9851 - val_loss: 0.5393 - val_accuracy: 0.8400\n",
            "Epoch 38/50\n",
            "7/7 [==============================] - 42s 6s/step - loss: 0.0274 - accuracy: 0.9900 - val_loss: 0.5602 - val_accuracy: 0.8400\n",
            "Epoch 39/50\n",
            "7/7 [==============================] - 44s 6s/step - loss: 0.0108 - accuracy: 0.9950 - val_loss: 0.8220 - val_accuracy: 0.8400\n",
            "Epoch 40/50\n",
            "7/7 [==============================] - 42s 6s/step - loss: 0.0229 - accuracy: 0.9950 - val_loss: 0.7484 - val_accuracy: 0.8200\n",
            "Epoch 41/50\n",
            "7/7 [==============================] - 41s 6s/step - loss: 0.0045 - accuracy: 1.0000 - val_loss: 0.9677 - val_accuracy: 0.8000\n",
            "Epoch 42/50\n",
            "7/7 [==============================] - 45s 6s/step - loss: 0.0014 - accuracy: 1.0000 - val_loss: 0.7022 - val_accuracy: 0.8800\n",
            "Epoch 43/50\n",
            "7/7 [==============================] - 47s 7s/step - loss: 3.3649e-04 - accuracy: 1.0000 - val_loss: 0.7163 - val_accuracy: 0.8800\n",
            "Epoch 44/50\n",
            "7/7 [==============================] - 45s 6s/step - loss: 0.0010 - accuracy: 1.0000 - val_loss: 0.7525 - val_accuracy: 0.8600\n",
            "Epoch 45/50\n",
            "7/7 [==============================] - 41s 6s/step - loss: 0.0046 - accuracy: 0.9950 - val_loss: 0.6831 - val_accuracy: 0.8200\n",
            "Epoch 46/50\n",
            "7/7 [==============================] - 43s 6s/step - loss: 0.0022 - accuracy: 1.0000 - val_loss: 0.7089 - val_accuracy: 0.8000\n",
            "Epoch 47/50\n",
            "7/7 [==============================] - 49s 7s/step - loss: 0.0012 - accuracy: 1.0000 - val_loss: 0.8912 - val_accuracy: 0.8000\n",
            "Epoch 48/50\n",
            "7/7 [==============================] - 42s 6s/step - loss: 0.0014 - accuracy: 1.0000 - val_loss: 1.0210 - val_accuracy: 0.8000\n",
            "Epoch 49/50\n",
            "7/7 [==============================] - 45s 6s/step - loss: 3.3705e-04 - accuracy: 1.0000 - val_loss: 1.0424 - val_accuracy: 0.8000\n",
            "Epoch 50/50\n",
            "7/7 [==============================] - 44s 6s/step - loss: 1.5086e-04 - accuracy: 1.0000 - val_loss: 0.8440 - val_accuracy: 0.8400\n",
            "3/3 [==============================] - 5s 1s/step - loss: 0.7011 - accuracy: 0.8788\n",
            "Test Loss: 0.7010781168937683\n",
            "Test Accuracy: 0.8787878751754761\n"
          ]
        }
      ]
    },
    {
      "cell_type": "code",
      "source": [
        "from sklearn.metrics import precision_score, recall_score, f1_score\n",
        "# Get the predicted labels for the validation set\n",
        "y_pred = model.predict(val_set)\n",
        "y_pred_classes = np.argmax(y_pred, axis=1)\n",
        "\n",
        "# Get the true labels for the validation set\n",
        "y_true = val_set.labels\n",
        "\n",
        "# Calculate precision, recall, and F1-score\n",
        "precision = precision_score(y_true, y_pred_classes, average='weighted')\n",
        "recall = recall_score(y_true, y_pred_classes, average='weighted')\n",
        "f1 = f1_score(y_true, y_pred_classes, average='weighted')\n",
        "\n",
        "# Print the metrics\n",
        "print(\"Accuracy:\", test_accuracy)\n",
        "print(\"Precision:\", precision)\n",
        "print(\"Recall:\", recall)\n",
        "print(\"F1-Score:\", f1)"
      ],
      "metadata": {
        "colab": {
          "base_uri": "https://localhost:8080/"
        },
        "id": "VGawNzqmaXO3",
        "outputId": "cd3a9092-0cfa-4837-cf56-99656fad4475"
      },
      "execution_count": 11,
      "outputs": [
        {
          "output_type": "stream",
          "name": "stdout",
          "text": [
            "2/2 [==============================] - 7s 1s/step\n",
            "Accuracy: 0.8787878751754761\n",
            "Precision: 0.40973262032085567\n",
            "Recall: 0.42\n",
            "F1-Score: 0.4131870967741935\n"
          ]
        }
      ]
    }
  ]
}