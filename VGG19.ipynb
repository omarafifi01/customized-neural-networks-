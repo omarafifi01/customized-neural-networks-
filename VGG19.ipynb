{
  "nbformat": 4,
  "nbformat_minor": 0,
  "metadata": {
    "colab": {
      "provenance": []
    },
    "kernelspec": {
      "name": "python3",
      "display_name": "Python 3"
    },
    "language_info": {
      "name": "python"
    }
  },
  "cells": [
    {
      "cell_type": "code",
      "execution_count": null,
      "metadata": {
        "id": "M4Q2JpIjOJJM"
      },
      "outputs": [],
      "source": [
        "import numpy as np\n",
        "import pandas as pd\n",
        "import tensorflow as tf\n",
        "import os\n",
        "import matplotlib.pyplot as plt\n",
        "from tensorflow.keras import layers\n",
        "from tensorflow.keras.preprocessing.image import ImageDataGenerator\n",
        "from tensorflow.keras.models import Sequential\n",
        "from tensorflow.keras.layers import Flatten, Dense, Dropout\n",
        "from tensorflow.keras.optimizers import Adam\n",
        "from tensorflow.keras.callbacks import EarlyStopping\n",
        "from tensorflow.keras.applications import VGG19\n",
        "from keras.applications import VGG19\n",
        "from keras.models import Sequential\n",
        "from keras.layers import Flatten, Dense\n",
        "from tensorflow.keras.layers import Flatten, Dense, Dropout\n"
      ]
    },
    {
      "cell_type": "code",
      "source": [
        "from google.colab import drive\n",
        "drive.mount('/content/drive')\n",
        "data_path = '/content/drive/MyDrive/Covid19-dataset'\n",
        "train_dir = '/content/drive/MyDrive/Covid19-dataset/train'\n",
        "test_dir = '/content/drive/MyDrive/Covid19-dataset/test'"
      ],
      "metadata": {
        "colab": {
          "base_uri": "https://localhost:8080/"
        },
        "id": "vlVJqg7hOK6I",
        "outputId": "ad53e393-2aea-4e36-8690-33b3e67576d1"
      },
      "execution_count": null,
      "outputs": [
        {
          "output_type": "stream",
          "name": "stdout",
          "text": [
            "Mounted at /content/drive\n"
          ]
        }
      ]
    },
    {
      "cell_type": "code",
      "source": [
        "vgg = VGG19(include_top = False , input_shape = (224,224,3),weights='imagenet')\n",
        "for layer in vgg.layers :\n",
        "    layer.trainable = False\n",
        "\n",
        "ES = tf.keras.callbacks.EarlyStopping(\n",
        "    patience = 10,\n",
        "    min_delta = 0.001,\n",
        "    verbose = 0\n",
        ")\n",
        "vgg = tf.keras.Sequential([\n",
        "    layers.RandomFlip(mode='horizontal'),\n",
        "    layers.RandomRotation(factor=0.2),\n",
        "    vgg,\n",
        "    layers.Flatten(),\n",
        "    layers.Dense(3, activation='softmax')\n",
        "])\n",
        "vgg.compile(\n",
        "    optimizer='adam',\n",
        "    loss = 'sparse_categorical_crossentropy',\n",
        "    metrics = ['accuracy']\n",
        ")"
      ],
      "metadata": {
        "colab": {
          "base_uri": "https://localhost:8080/"
        },
        "id": "LHQtsdOlOK8q",
        "outputId": "f0572862-7c3f-4aad-c068-20f2859bcc8d"
      },
      "execution_count": null,
      "outputs": [
        {
          "output_type": "stream",
          "name": "stdout",
          "text": [
            "Downloading data from https://storage.googleapis.com/tensorflow/keras-applications/vgg19/vgg19_weights_tf_dim_ordering_tf_kernels_notop.h5\n",
            "80134624/80134624 [==============================] - 3s 0us/step\n"
          ]
        }
      ]
    },
    {
      "cell_type": "code",
      "source": [
        "image_shape = (224, 224)\n",
        "batch_size = 32\n",
        "\n",
        "# Data augmentation and preprocessing for training set\n",
        "train_datagen = ImageDataGenerator(\n",
        "    rescale=1./255,\n",
        "    rotation_range=20,\n",
        "    width_shift_range=0.2,\n",
        "    height_shift_range=0.2,\n",
        "    shear_range=0.2,\n",
        "    zoom_range=0.2,\n",
        "    horizontal_flip=True,\n",
        "    validation_split=0.2  # Splitting the training set into 80% training and 20% validation\n",
        ")\n",
        "\n",
        "# Preprocessing for test set\n",
        "test_datagen = ImageDataGenerator(rescale=1./255)\n",
        "\n",
        "# Load and augment the training set\n",
        "train_set = train_datagen.flow_from_directory(\n",
        "    train_dir,\n",
        "    target_size=image_shape,\n",
        "    batch_size=batch_size,\n",
        "    class_mode='sparse',\n",
        "    subset='training'  # Use the subset 'training' for the training set\n",
        ")\n",
        "\n",
        "# Load and augment the validation set\n",
        "val_set = train_datagen.flow_from_directory(\n",
        "    train_dir,\n",
        "    target_size=image_shape,\n",
        "    batch_size=batch_size,\n",
        "    class_mode='sparse',\n",
        "    subset='validation'  # Use the subset 'validation' for the validation set\n",
        ")\n",
        "\n",
        "# Load the test set\n",
        "test_set = test_datagen.flow_from_directory(\n",
        "    test_dir,\n",
        "    target_size=image_shape,\n",
        "    batch_size=batch_size,\n",
        "    class_mode='sparse',\n",
        "    shuffle=False\n",
        ")\n",
        "# fit the model\n",
        "training = vgg.fit_generator(\n",
        "    train_set,\n",
        "    callbacks=[ES],\n",
        "    steps_per_epoch = 7 ,\n",
        "    epochs = 30,\n",
        "    validation_data = val_set\n",
        ")\n",
        "\n",
        "accuracy = training.history['accuracy']\n",
        "validation_accuracy = training.history['val_accuracy']\n",
        "\n",
        "final_accuracy = accuracy[-1]\n",
        "final_validation_accuracy = validation_accuracy[-1]\n",
        "\n",
        "print(\"Final Training Accuracy:\", final_accuracy)\n",
        "print(\"Final Validation Accuracy:\", final_validation_accuracy)"
      ],
      "metadata": {
        "colab": {
          "base_uri": "https://localhost:8080/"
        },
        "id": "z1TyLtcfOe79",
        "outputId": "79807894-5d03-4a1e-8459-3dacde2c8551"
      },
      "execution_count": null,
      "outputs": [
        {
          "metadata": {
            "tags": null
          },
          "name": "stdout",
          "output_type": "stream",
          "text": [
            "Found 201 images belonging to 3 classes.\n",
            "Found 50 images belonging to 3 classes.\n",
            "Found 66 images belonging to 3 classes.\n"
          ]
        },
        {
          "metadata": {
            "tags": null
          },
          "name": "stderr",
          "output_type": "stream",
          "text": [
            "<ipython-input-5-5d427a1597a2>:46: UserWarning: `Model.fit_generator` is deprecated and will be removed in a future version. Please use `Model.fit`, which supports generators.\n",
            "  training = vgg.fit_generator(\n"
          ]
        },
        {
          "output_type": "stream",
          "name": "stdout",
          "text": [
            "Epoch 1/30\n",
            "7/7 [==============================] - 208s 30s/step - loss: 2.3860 - accuracy: 0.3881 - val_loss: 2.2929 - val_accuracy: 0.4800\n",
            "Epoch 2/30\n",
            "7/7 [==============================] - 183s 26s/step - loss: 1.4141 - accuracy: 0.6368 - val_loss: 1.8066 - val_accuracy: 0.4200\n",
            "Epoch 3/30\n",
            "7/7 [==============================] - 227s 34s/step - loss: 0.9571 - accuracy: 0.6269 - val_loss: 0.6992 - val_accuracy: 0.6600\n",
            "Epoch 4/30\n",
            "7/7 [==============================] - 187s 27s/step - loss: 0.6391 - accuracy: 0.7463 - val_loss: 0.7906 - val_accuracy: 0.6200\n",
            "Epoch 5/30\n",
            "7/7 [==============================] - 185s 30s/step - loss: 0.6030 - accuracy: 0.7413 - val_loss: 0.8688 - val_accuracy: 0.6200\n",
            "Epoch 6/30\n",
            "7/7 [==============================] - 179s 26s/step - loss: 0.4969 - accuracy: 0.7662 - val_loss: 0.6111 - val_accuracy: 0.7400\n",
            "Epoch 7/30\n",
            "7/7 [==============================] - 190s 27s/step - loss: 0.4749 - accuracy: 0.8408 - val_loss: 0.5046 - val_accuracy: 0.8800\n",
            "Epoch 8/30\n",
            "7/7 [==============================] - 186s 27s/step - loss: 0.4645 - accuracy: 0.8109 - val_loss: 0.7366 - val_accuracy: 0.7200\n",
            "Epoch 9/30\n",
            "7/7 [==============================] - 177s 26s/step - loss: 0.4961 - accuracy: 0.7811 - val_loss: 0.5410 - val_accuracy: 0.8200\n",
            "Epoch 10/30\n",
            "7/7 [==============================] - 185s 26s/step - loss: 0.4164 - accuracy: 0.8507 - val_loss: 0.3645 - val_accuracy: 0.8800\n",
            "Epoch 11/30\n",
            "7/7 [==============================] - 181s 26s/step - loss: 0.3530 - accuracy: 0.8557 - val_loss: 0.4268 - val_accuracy: 0.8200\n",
            "Epoch 12/30\n",
            "7/7 [==============================] - 182s 26s/step - loss: 0.3822 - accuracy: 0.8507 - val_loss: 0.4815 - val_accuracy: 0.7600\n",
            "Epoch 13/30\n",
            "7/7 [==============================] - 182s 26s/step - loss: 0.3852 - accuracy: 0.8657 - val_loss: 0.5209 - val_accuracy: 0.8200\n",
            "Epoch 14/30\n",
            "7/7 [==============================] - 181s 26s/step - loss: 0.2961 - accuracy: 0.8856 - val_loss: 0.4270 - val_accuracy: 0.8600\n",
            "Epoch 15/30\n",
            "7/7 [==============================] - 182s 26s/step - loss: 0.2701 - accuracy: 0.8856 - val_loss: 0.5216 - val_accuracy: 0.8000\n",
            "Epoch 16/30\n",
            "7/7 [==============================] - 179s 26s/step - loss: 0.2735 - accuracy: 0.9005 - val_loss: 0.4705 - val_accuracy: 0.7800\n",
            "Epoch 17/30\n",
            "7/7 [==============================] - 185s 27s/step - loss: 0.2976 - accuracy: 0.9005 - val_loss: 0.3248 - val_accuracy: 0.9000\n",
            "Epoch 18/30\n",
            "7/7 [==============================] - 181s 26s/step - loss: 0.2225 - accuracy: 0.9353 - val_loss: 0.3411 - val_accuracy: 0.8800\n",
            "Epoch 19/30\n",
            "7/7 [==============================] - 177s 26s/step - loss: 0.2093 - accuracy: 0.9303 - val_loss: 0.2659 - val_accuracy: 0.9200\n",
            "Epoch 20/30\n",
            "7/7 [==============================] - 180s 26s/step - loss: 0.2480 - accuracy: 0.9005 - val_loss: 0.3936 - val_accuracy: 0.8800\n",
            "Epoch 21/30\n",
            "7/7 [==============================] - 186s 27s/step - loss: 0.2366 - accuracy: 0.9453 - val_loss: 0.4973 - val_accuracy: 0.8200\n",
            "Epoch 22/30\n",
            "7/7 [==============================] - 182s 27s/step - loss: 0.2829 - accuracy: 0.9055 - val_loss: 0.5235 - val_accuracy: 0.8200\n",
            "Epoch 23/30\n",
            "7/7 [==============================] - 180s 25s/step - loss: 0.2312 - accuracy: 0.9104 - val_loss: 0.5214 - val_accuracy: 0.8200\n",
            "Epoch 24/30\n",
            "7/7 [==============================] - 180s 26s/step - loss: 0.2491 - accuracy: 0.9104 - val_loss: 0.3659 - val_accuracy: 0.8600\n",
            "Epoch 25/30\n",
            "7/7 [==============================] - 181s 26s/step - loss: 0.2765 - accuracy: 0.9005 - val_loss: 0.3414 - val_accuracy: 0.8600\n",
            "Epoch 26/30\n",
            "7/7 [==============================] - 177s 26s/step - loss: 0.2550 - accuracy: 0.9055 - val_loss: 0.4249 - val_accuracy: 0.7800\n",
            "Epoch 27/30\n",
            "7/7 [==============================] - 185s 27s/step - loss: 0.2620 - accuracy: 0.9055 - val_loss: 0.3341 - val_accuracy: 0.8400\n",
            "Epoch 28/30\n",
            "7/7 [==============================] - 181s 26s/step - loss: 0.2792 - accuracy: 0.9005 - val_loss: 0.3718 - val_accuracy: 0.8800\n",
            "Epoch 29/30\n",
            "7/7 [==============================] - 183s 27s/step - loss: 0.2368 - accuracy: 0.8905 - val_loss: 0.2782 - val_accuracy: 0.9000\n",
            "Final Training Accuracy: 0.8905472755432129\n",
            "Final Validation Accuracy: 0.8999999761581421\n"
          ]
        }
      ]
    },
    {
      "cell_type": "code",
      "source": [
        "from sklearn.metrics import precision_score, recall_score, f1_score, classification_report\n",
        "\n",
        "test_loss, test_accuracy = vgg.evaluate(test_set)\n",
        "test_set.reset()\n",
        "predictions = vgg.predict(test_set)\n",
        "predicted_classes = np.argmax(predictions, axis=1)\n",
        "true_classes = test_set.classes\n",
        "\n",
        "# Compute precision, recall, and F1 score\n",
        "precision = precision_score(true_classes, predicted_classes, average='weighted')\n",
        "recall = recall_score(true_classes, predicted_classes, average='weighted')\n",
        "f1 = f1_score(true_classes, predicted_classes, average='weighted')\n",
        "\n",
        "# Print final accuracies and metrics\n",
        "print(\"Final Training Accuracy:\", training.history['accuracy'][-1])\n",
        "print(\"Final Validation Accuracy:\", training.history['val_accuracy'][-1])\n",
        "print(\"Test Accuracy:\", test_accuracy)\n",
        "print(\"Precision:\", precision)\n",
        "print(\"Recall:\", recall)\n",
        "print(\"F1 Score:\", f1)\n",
        "print(\"Test Loss:\", test_loss)\n",
        "\n",
        "# Print a detailed classification report\n",
        "print(\"\\nClassification Report:\\n\", classification_report(true_classes, predicted_classes))"
      ],
      "metadata": {
        "colab": {
          "base_uri": "https://localhost:8080/"
        },
        "id": "IPS_ZYn6O2Qj",
        "outputId": "02936fd4-af97-413c-dc03-e50bdb0cfed1"
      },
      "execution_count": 12,
      "outputs": [
        {
          "output_type": "stream",
          "name": "stdout",
          "text": [
            "3/3 [==============================] - 48s 13s/step - loss: 0.1906 - accuracy: 0.9394\n",
            "3/3 [==============================] - 47s 12s/step\n",
            "Final Training Accuracy: 0.8905472755432129\n",
            "Final Validation Accuracy: 0.8999999761581421\n",
            "Test Accuracy: 0.939393937587738\n",
            "Precision: 0.9418426691153964\n",
            "Recall: 0.9393939393939394\n",
            "F1 Score: 0.9392420445052023\n",
            "Test Loss: 0.1905670017004013\n",
            "\n",
            "Classification Report:\n",
            "               precision    recall  f1-score   support\n",
            "\n",
            "           0       1.00      1.00      1.00        26\n",
            "           1       0.94      0.85      0.89        20\n",
            "           2       0.86      0.95      0.90        20\n",
            "\n",
            "    accuracy                           0.94        66\n",
            "   macro avg       0.94      0.93      0.93        66\n",
            "weighted avg       0.94      0.94      0.94        66\n",
            "\n"
          ]
        }
      ]
    }
  ]
}